{
  "nbformat": 4,
  "nbformat_minor": 0,
  "metadata": {
    "colab": {
      "provenance": [],
      "authorship_tag": "ABX9TyMGZTmqD/aALES5x1q9B2gi",
      "include_colab_link": true
    },
    "kernelspec": {
      "name": "python3",
      "display_name": "Python 3"
    },
    "language_info": {
      "name": "python"
    }
  },
  "cells": [
    {
      "cell_type": "markdown",
      "metadata": {
        "id": "view-in-github",
        "colab_type": "text"
      },
      "source": [
        "<a href=\"https://colab.research.google.com/github/suryasis-hub/NLP/blob/master/Word2Vec.ipynb\" target=\"_parent\"><img src=\"https://colab.research.google.com/assets/colab-badge.svg\" alt=\"Open In Colab\"/></a>"
      ]
    },
    {
      "cell_type": "code",
      "execution_count": 1,
      "metadata": {
        "colab": {
          "base_uri": "https://localhost:8080/"
        },
        "id": "6CjuTmugXS4a",
        "outputId": "bb35f165-8da0-4318-9855-825ffb6275bd"
      },
      "outputs": [
        {
          "output_type": "stream",
          "name": "stdout",
          "text": [
            "[==================================================] 100.0% 1662.8/1662.8MB downloaded\n"
          ]
        }
      ],
      "source": [
        "import gensim.downloader as api\n",
        "\n",
        "# Load the pre-trained Google News Word2Vec model\n",
        "model = api.load(\"word2vec-google-news-300\")\n"
      ]
    },
    {
      "cell_type": "code",
      "source": [
        "def analogy(word1, word2, word3, model):\n",
        "    \"\"\"\n",
        "    Perform word analogy: word1 is to word2 as word3 is to ?\n",
        "    Returns the most similar word based on the analogy.\n",
        "    \"\"\"\n",
        "    result = model.most_similar(positive=[word1, word3], negative=[word2], topn=1)\n",
        "    return result[0][0]"
      ],
      "metadata": {
        "id": "5kYXeavaaO_t"
      },
      "execution_count": 2,
      "outputs": []
    },
    {
      "cell_type": "code",
      "source": [
        "word1 = \"king\"\n",
        "word2 = \"man\"\n",
        "word3 = \"woman\"\n",
        "\n",
        "fourth_word = analogy(word1, word2, word3, model)\n",
        "print(fourth_word)"
      ],
      "metadata": {
        "colab": {
          "base_uri": "https://localhost:8080/"
        },
        "id": "Jf7dtZbaaXqZ",
        "outputId": "a69a7e17-04c8-42cc-a132-18dcb0bdba10"
      },
      "execution_count": 3,
      "outputs": [
        {
          "output_type": "stream",
          "name": "stdout",
          "text": [
            "queen\n"
          ]
        }
      ]
    },
    {
      "cell_type": "code",
      "source": [
        "fifth_word = analogy('Actress','Woman','Man',model)\n",
        "print(fifth_word)"
      ],
      "metadata": {
        "colab": {
          "base_uri": "https://localhost:8080/"
        },
        "id": "dh9scVxDajBf",
        "outputId": "c5dc7383-8559-4165-93fc-c5ae110a160f"
      },
      "execution_count": 10,
      "outputs": [
        {
          "output_type": "stream",
          "name": "stdout",
          "text": [
            "Actor\n"
          ]
        }
      ]
    }
  ]
}